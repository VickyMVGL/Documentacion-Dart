{
 "cells": [
  {
   "cell_type": "markdown",
   "metadata": {},
   "source": [
    "# Sintaxis Basica\n",
    "\n",
    "## Declaracion de Variables\n",
    "\n",
    "Dart permite declarar variables de manera explicita o por inferencia, es decir, al ser un lenguaje de tipado fuerte y estqatico, es una buena practica colocar el tipo de variable al declarar la misma, sin embargo, tambien acepta tipado dinamico, por lo que en caso de necesitarlo, no es necesario declarar el tipo de variable con anterioridad.\n",
    "\n",
    "### Variable inferida\n",
    "\n",
    "var: Infiere el tipo automáticamente, pero no puede cambiarse después."
   ]
  },
  {
   "cell_type": "code",
   "execution_count": null,
   "metadata": {
    "vscode": {
     "languageId": "plaintext"
    }
   },
   "outputs": [],
   "source": [
    "var edad = 25;      // Tipo inferido: int\n",
    "// edad = 'veinticinco'; // Error: String no es asignable a int"
   ]
  },
  {
   "cell_type": "markdown",
   "metadata": {},
   "source": [
    "### Variable Explicita\n",
    "\n",
    "Define el tipo manualmente para mayor claridad."
   ]
  },
  {
   "cell_type": "code",
   "execution_count": null,
   "metadata": {
    "vscode": {
     "languageId": "plaintext"
    }
   },
   "outputs": [],
   "source": [
    "String nombre = 'Dart';"
   ]
  },
  {
   "cell_type": "markdown",
   "metadata": {},
   "source": [
    "## Variables en el tiempo de ejecucion\n",
    "\n",
    "En Dart, final y const son palabras clave que se usan para declarar variables y constantes. La principal diferencia entre ambas es que final permite asignar valores en tiempo de ejecución, mientras que const solo permite asignar valores en tiempo de compilación. \n",
    "\n",
    "### Final\n",
    "\n",
    "Valor asignado una vez (en tiempo de ejecución)."
   ]
  },
  {
   "cell_type": "code",
   "execution_count": null,
   "metadata": {
    "vscode": {
     "languageId": "java"
    }
   },
   "outputs": [],
   "source": [
    "final fecha = DateTime.now(); "
   ]
  },
  {
   "cell_type": "markdown",
   "metadata": {},
   "source": [
    "\n",
    "### Const\n",
    "Valor constante en tiempo de compilación."
   ]
  },
  {
   "cell_type": "code",
   "execution_count": null,
   "metadata": {
    "vscode": {
     "languageId": "java"
    }
   },
   "outputs": [],
   "source": [
    "const pi = 3.1416; \n",
    "// const fechaConst = DateTime.now(); // Error: No es constante en compilación"
   ]
  },
  {
   "cell_type": "markdown",
   "metadata": {},
   "source": [
    "## Colecciones\n",
    "\n",
    "Existen varios tipos de datos para crear colecciones en Dart\n",
    "\n",
    "### Listas\n",
    "\n",
    "la colección más común en casi todos los lenguajes de programación sea la matriz , o grupo ordenado de objetos. En Dart, las matrices son Listobjetos, por lo que la mayoría de las personas las llaman simplemente listas . Con las mismas tambien se pueden hacer operaciones\n"
   ]
  },
  {
   "cell_type": "code",
   "execution_count": null,
   "metadata": {
    "vscode": {
     "languageId": "java"
    }
   },
   "outputs": [],
   "source": [
    "List<int> numeros = [1, 2, 3];\n",
    "numeros.add(4); // [1, 2, 3, 4]\n",
    "numeros = [5, 6]; // Error si se declara como final\n",
    "\n",
    "//Operaciones con colecciones\n",
    "\n",
    "var lista = [0, ...numeros]; // Spread operator: [0, 1, 2, 3, 4]\n",
    "var listaCondicional = [if (numeros.isNotEmpty) ...numeros]; // Collection if"
   ]
  },
  {
   "cell_type": "markdown",
   "metadata": {},
   "source": [
    "### Mapas\n",
    "\n",
    "Un mapa es un objeto que asocia claves y valores. Tanto las claves como los valores pueden ser de cualquier tipo. Cada clave aparece solo una vez, pero se puede usar el mismo valor varias veces."
   ]
  },
  {
   "cell_type": "code",
   "execution_count": null,
   "metadata": {
    "vscode": {
     "languageId": "java"
    }
   },
   "outputs": [],
   "source": [
    "Map<String, dynamic> usuario = {\n",
    "  'nombre': 'Ana',\n",
    "  'edad': 30,\n",
    "  'activo': true,\n",
    "};\n",
    "print(usuario['nombre']); // Ana"
   ]
  },
  {
   "cell_type": "markdown",
   "metadata": {},
   "source": [
    "### Conjuntos\n",
    "\n",
    "Un conjunto en Dart es una colección desordenada de elementos únicos. La compatibilidad de Dart con los conjuntos se proporciona mediante literales de conjunto y el Set tipo."
   ]
  },
  {
   "cell_type": "code",
   "execution_count": null,
   "metadata": {
    "vscode": {
     "languageId": "java"
    }
   },
   "outputs": [],
   "source": [
    "Set<String> lenguajes = {'Dart', 'Java', 'Switf'};"
   ]
  }
 ],
 "metadata": {
  "language_info": {
   "name": "python"
  }
 },
 "nbformat": 4,
 "nbformat_minor": 2
}
