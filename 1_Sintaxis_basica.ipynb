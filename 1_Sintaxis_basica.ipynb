{
 "cells": [
  {
   "cell_type": "markdown",
   "metadata": {},
   "source": [
    "# Sintaxis Basica\n",
    "\n",
    "## Declaracion de Variables\n",
    "\n",
    "Dart permite declarar variables de manera explicita o por inferencia, es decir, al ser un lenguaje de tipado fuerte y estqatico, es una buena practica colocar el tipo de variable al declarar la misma, sin embargo, tambien acepta tipado dinamico, por lo que en caso de necesitarlo, no es necesario declarar el tipo de variable con anterioridad.\n",
    "\n",
    "### Variable inferida\n",
    "\n",
    "var: Infiere el tipo automáticamente, pero no puede cambiarse después."
   ]
  },
  {
   "cell_type": "code",
   "execution_count": null,
   "metadata": {
    "vscode": {
     "languageId": "plaintext"
    }
   },
   "outputs": [],
   "source": [
    "var edad = 25;      // Tipo inferido: int\n",
    "// edad = 'veinticinco'; // Error: String no es asignable a int"
   ]
  },
  {
   "cell_type": "markdown",
   "metadata": {},
   "source": [
    "### Variable Explicita\n",
    "\n",
    "Define el tipo manualmente para mayor claridad."
   ]
  },
  {
   "cell_type": "code",
   "execution_count": null,
   "metadata": {
    "vscode": {
     "languageId": "plaintext"
    }
   },
   "outputs": [],
   "source": [
    "String nombre = 'Dart';"
   ]
  },
  {
   "cell_type": "markdown",
   "metadata": {},
   "source": [
    "## "
   ]
  }
 ],
 "metadata": {
  "language_info": {
   "name": "python"
  }
 },
 "nbformat": 4,
 "nbformat_minor": 2
}
