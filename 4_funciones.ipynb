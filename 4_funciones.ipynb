{
 "cells": [
  {
   "cell_type": "markdown",
   "metadata": {},
   "source": [
    "# Funciones\n",
    "\n",
    "Las funciones son bloques de código reutilizables que realizan una tarea específica. En Dart, se definen con flexibilidad, soportando parámetros, valores de retorno y sintaxis simplificada.\n",
    "\n",
    "## Función Básica"
   ]
  },
  {
   "cell_type": "code",
   "execution_count": null,
   "metadata": {
    "vscode": {
     "languageId": "cpp"
    }
   },
   "outputs": [],
   "source": [
    "// Definición\n",
    "void saludar() {\n",
    "  print('Hola, mundo');\n",
    "}\n",
    "\n",
    "// Llamada\n",
    "saludar(); // Hola, mundo"
   ]
  },
  {
   "cell_type": "markdown",
   "metadata": {},
   "source": [
    "##  Funciones con Parámetros y Retorno"
   ]
  },
  {
   "cell_type": "code",
   "execution_count": null,
   "metadata": {
    "vscode": {
     "languageId": "csharp"
    }
   },
   "outputs": [],
   "source": [
    "// Parámetros posicionales\n",
    "int sumar(int a, int b) {\n",
    "  return a + b;\n",
    "}\n",
    "\n",
    "print(sumar(3, 5)); // 8\n",
    "\n",
    "// Arrow Function (retorno implícito)\n",
    "int multiplicar(int a, int b) => a * b;\n",
    "print(multiplicar(2, 4)); // 8"
   ]
  },
  {
   "cell_type": "markdown",
   "metadata": {},
   "source": [
    "## Funciones con Parámetros Opcionales\n",
    "\n",
    "### Opcionales posicionales ([ ])"
   ]
  },
  {
   "cell_type": "code",
   "execution_count": null,
   "metadata": {
    "vscode": {
     "languageId": "csharp"
    }
   },
   "outputs": [],
   "source": [
    "void saludar(String mensaje, [String? nombre]) {\n",
    "  print('$mensaje, ${nombre ?? 'usuario'}');\n",
    "}\n",
    "\n",
    "saludar('Hola'); // Hola, usuario\n",
    "saludar('Bienvenido', 'Ana'); // Bienvenido, Ana"
   ]
  },
  {
   "cell_type": "markdown",
   "metadata": {},
   "source": [
    "### Parámetros nombrados ({ })"
   ]
  },
  {
   "cell_type": "code",
   "execution_count": null,
   "metadata": {
    "vscode": {
     "languageId": "csharp"
    }
   },
   "outputs": [],
   "source": [
    "void configurar({required int puerto, String entorno = 'dev'}) {\n",
    "  print('Puerto: $puerto, Entorno: $entorno');\n",
    "}\n",
    "\n",
    "configurar(puerto: 8080); // Puerto: 8080, Entorno: dev"
   ]
  },
  {
   "cell_type": "markdown",
   "metadata": {},
   "source": [
    "## Valores por defecto"
   ]
  },
  {
   "cell_type": "code",
   "execution_count": null,
   "metadata": {
    "vscode": {
     "languageId": "csharp"
    }
   },
   "outputs": [],
   "source": [
    "void conectar({String servidor = 'localhost', int intentos = 3}) {\n",
    "  print('Conectando a $servidor (intentos: $intentos)');\n",
    "}\n",
    "\n",
    "conectar(); // Conectando a localhost (intentos: 3)"
   ]
  },
  {
   "cell_type": "markdown",
   "metadata": {},
   "source": [
    "## Funciones Anonimas\n",
    "\n",
    "Útiles como callbacks o en métodos como forEach"
   ]
  },
  {
   "cell_type": "code",
   "execution_count": null,
   "metadata": {
    "vscode": {
     "languageId": "csharp"
    }
   },
   "outputs": [],
   "source": [
    "List<int> numeros = [1, 2, 3];\n",
    "numeros.forEach((numero) {\n",
    "  print(numero * 2); // 2, 4, 6\n",
    "});"
   ]
  }
 ],
 "metadata": {
  "language_info": {
   "name": "python"
  }
 },
 "nbformat": 4,
 "nbformat_minor": 2
}
