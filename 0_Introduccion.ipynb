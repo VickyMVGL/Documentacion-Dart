{
 "cells": [
  {
   "cell_type": "markdown",
   "metadata": {},
   "source": [
    "# DART\n",
    "\n",
    "Dart es un lenguaje de programación moderno y versátil, creado por Google en 2011, con el objetivo de ofrecer una alternativa eficiente para el desarrollo de aplicaciones de alto rendimiento en múltiples plataformas. Su diseño combina características de lenguajes como Java, JavaScript y C#, priorizando la productividad del desarrollador, la seguridad del código y la capacidad de adaptarse a entornos diversos. Aunque inicialmente se orientó al desarrollo web, su evolución y la integración con Flutter (framework de UI de Google, lanzado en 2017) lo han posicionado como una herramienta líder para el desarrollo móvil multiplataforma.\n",
    "\n",
    "\n",
    "## Principales Razones para Elegir Dart en Desarrollo Móvil\n",
    "\n",
    "### Sinergia con Flutter\n",
    "\n",
    "Dart es el lenguaje oficial de Flutter, lo que garantiza una integración perfecta. Flutter compila el código de Dart a binario nativo (ARM o x64) para iOS y Android, logrando rendimiento cercano al de aplicaciones nativas escritas en Swift o Kotlin. Además, permite crear interfaces fluidas y personalizadas con un solo código base.\n",
    "\n",
    "### Productividad con Hot Reload\n",
    "\n",
    "Una de las características más valoradas por los desarrolladores es el Hot Reload, que permite aplicar cambios en el código y verlos reflejados instantáneamente en el emulador o dispositivo físico, sin perder el estado de la aplicación. Esto acelera drásticamente el ciclo de desarrollo y depuración.\n",
    "\n",
    "### Seguridad y Robustez\n",
    "\n",
    "Null Safety: Introducido en Dart 2.12, este sistema evita errores comunes de \"null reference\" al obligar al desarrollador a declarar explícitamente cuándo una variable puede ser nula (usando ?). Por ejemplo:"
   ]
  },
  {
   "cell_type": "code",
   "execution_count": null,
   "metadata": {
    "vscode": {
     "languageId": "java"
    }
   },
   "outputs": [],
   "source": [
    "String? nombre; // Puede ser null\n",
    "String titulo = 'App'; // Nunca es null"
   ]
  },
  {
   "cell_type": "markdown",
   "metadata": {},
   "source": [
    "Tipado Estático con Inferencia: Aunque Dart permite omitir tipos con var, el compilador los infiere para detectar errores temprano, como asignaciones incorrectas o llamadas a métodos inexistentes.\n",
    "\n",
    "### Asincronía sin Complejidad\n",
    "\n",
    "Dart simplifica el manejo de operaciones asíncronas (como llamadas a APIs o acceso a bases de datos) mediante Future y async/await, evitando el \"callback hell\" típico de JavaScript. Ejemplo:"
   ]
  },
  {
   "cell_type": "code",
   "execution_count": null,
   "metadata": {
    "vscode": {
     "languageId": "java"
    }
   },
   "outputs": [],
   "source": [
    "Future<void> cargarDatos() async {\n",
    "  var datos = await http.get('https://api.example.com');\n",
    "  print('Datos obtenidos: ${datos.body}');\n",
    "}"
   ]
  },
  {
   "cell_type": "markdown",
   "metadata": {},
   "source": [
    "### Multiplataforma Real\n",
    "\n",
    "Con Dart y Flutter, una sola base de código puede generar aplicaciones para:\n",
    "\n",
    "iOS y Android (compilación nativa).\n",
    "\n",
    "Web (compilado a JavaScript).\n",
    "\n",
    "Escritorio (Windows, macOS, Linux).\n",
    "\n",
    "Dispositivos Embebidos (a través de Flutter para Embedded)."
   ]
  }
 ],
 "metadata": {
  "language_info": {
   "name": "python"
  }
 },
 "nbformat": 4,
 "nbformat_minor": 2
}
