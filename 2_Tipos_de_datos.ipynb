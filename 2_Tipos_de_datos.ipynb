{
 "cells": [
  {
   "cell_type": "markdown",
   "metadata": {},
   "source": [
    "# Tipos de datos\n",
    "\n",
    "Dart es un lenguaje de tipado estático (con inferencia de tipos), lo que significa que cada variable tiene un tipo asociado que garantiza seguridad y claridad en el código.\n",
    "\n",
    "Estos son los principales tipos de datos\n",
    "\n",
    "## Datos primitivos\n",
    "\n",
    "### Numeros\n",
    "\n",
    "- int: Enteros de tamaño arbitrario (ej: -5, 0, 100).\n",
    "- double: Números de punto flotante (ej: 3.14, -0.5).\n",
    "- num: Superclase de int y double (acepta ambos)."
   ]
  },
  {
   "cell_type": "code",
   "execution_count": null,
   "metadata": {
    "vscode": {
     "languageId": "cpp"
    }
   },
   "outputs": [],
   "source": [
    "int edad = 25;\n",
    "\n",
    "double peso = 65.5;\n",
    "\n",
    "num valor = 10;    // Válido\n",
    "valor = 10.5;      // También válido"
   ]
  },
  {
   "cell_type": "markdown",
   "metadata": {},
   "source": [
    "### Cadenas de Texto (String)\n",
    "Secuencias de caracteres UTF-16. Las cadenas de texto se pueden crear con comillas simples o dobles. También se pueden usar comillas triples para cadenas de varias líneas. "
   ]
  },
  {
   "cell_type": "code",
   "execution_count": null,
   "metadata": {
    "vscode": {
     "languageId": "cpp"
    }
   },
   "outputs": [],
   "source": [
    "String nombre = 'Dart';\n",
    "String mensaje = \"Hola, $nombre\"; // Interpolación\n",
    "String multilinea = '''\n",
    "  Línea 1\n",
    "  Línea 2\n",
    "''';"
   ]
  },
  {
   "cell_type": "markdown",
   "metadata": {},
   "source": [
    "### Booleanos (bool)\n",
    "\n",
    "Solo dos valores posibles: true o false."
   ]
  },
  {
   "cell_type": "code",
   "execution_count": null,
   "metadata": {
    "vscode": {
     "languageId": "cpp"
    }
   },
   "outputs": [],
   "source": [
    "bool esActivo = true;\n",
    "if (esActivo) { ... }"
   ]
  },
  {
   "cell_type": "markdown",
   "metadata": {},
   "source": [
    "## Tipos de datos especiales\n",
    "\n"
   ]
  }
 ],
 "metadata": {
  "language_info": {
   "name": "python"
  }
 },
 "nbformat": 4,
 "nbformat_minor": 2
}
