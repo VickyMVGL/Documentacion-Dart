{
 "cells": [
  {
   "cell_type": "markdown",
   "metadata": {},
   "source": [
    "# Bucles y condicionales\n",
    "\n",
    "Los bucles y condicionales son estructuras fundamentales para controlar el flujo de ejecución en Dart.\n",
    "\n",
    "## Condicionales\n",
    "\n",
    "Permiten ejecutar bloques de código según condiciones específicas.\n",
    "\n",
    "### if - else if - else"
   ]
  },
  {
   "cell_type": "code",
   "execution_count": null,
   "metadata": {
    "vscode": {
     "languageId": "cpp"
    }
   },
   "outputs": [],
   "source": [
    "int puntaje = 85;\n",
    "\n",
    "if (puntaje >= 90) {\n",
    "  print('Excelente');\n",
    "} else if (puntaje >= 60) {\n",
    "  print('Aprobado'); // Se ejecuta este bloque\n",
    "} else {\n",
    "  print('Reprobado');\n",
    "}"
   ]
  },
  {
   "cell_type": "markdown",
   "metadata": {},
   "source": [
    "### Condicionales en una Línea (Operador Ternario)"
   ]
  },
  {
   "cell_type": "code",
   "execution_count": null,
   "metadata": {
    "vscode": {
     "languageId": "cpp"
    }
   },
   "outputs": [],
   "source": [
    "bool esMayor = (edad >= 18) ? true : false;\n",
    "print(esMayor ? 'Adulto' : 'Menor');"
   ]
  },
  {
   "cell_type": "markdown",
   "metadata": {},
   "source": [
    "### switch - case\n",
    "\n",
    "Ideal para comparar un valor contra múltiples posibilidades."
   ]
  },
  {
   "cell_type": "code",
   "execution_count": null,
   "metadata": {
    "vscode": {
     "languageId": "cpp"
    }
   },
   "outputs": [],
   "source": [
    "String dia = 'lunes';\n",
    "\n",
    "switch (dia) {\n",
    "  case 'lunes':\n",
    "    print('Inicio de semana');\n",
    "    break;\n",
    "  case 'viernes':\n",
    "    print('¡Fin de semana cerca!');\n",
    "    break;\n",
    "  default:\n",
    "    print('Día no reconocido');\n",
    "}"
   ]
  }
 ],
 "metadata": {
  "language_info": {
   "name": "python"
  }
 },
 "nbformat": 4,
 "nbformat_minor": 2
}
