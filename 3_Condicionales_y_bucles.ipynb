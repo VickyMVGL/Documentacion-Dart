{
 "cells": [
  {
   "cell_type": "markdown",
   "metadata": {},
   "source": [
    "# Bucles y condicionales\n",
    "\n",
    "Los bucles y condicionales son estructuras fundamentales para controlar el flujo de ejecución en Dart.\n",
    "\n",
    "## Condicionales\n",
    "\n",
    "Permiten ejecutar bloques de código según condiciones específicas.\n",
    "\n",
    "### if - else if - else"
   ]
  },
  {
   "cell_type": "code",
   "execution_count": null,
   "metadata": {
    "vscode": {
     "languageId": "cpp"
    }
   },
   "outputs": [],
   "source": [
    "int puntaje = 85;\n",
    "\n",
    "if (puntaje >= 90) {\n",
    "  print('Excelente');\n",
    "} else if (puntaje >= 60) {\n",
    "  print('Aprobado'); // Se ejecuta este bloque\n",
    "} else {\n",
    "  print('Reprobado');\n",
    "}"
   ]
  },
  {
   "cell_type": "markdown",
   "metadata": {},
   "source": [
    "### Condicionales en una Línea (Operador Ternario)"
   ]
  },
  {
   "cell_type": "code",
   "execution_count": null,
   "metadata": {
    "vscode": {
     "languageId": "cpp"
    }
   },
   "outputs": [],
   "source": [
    "bool esMayor = (edad >= 18) ? true : false;\n",
    "print(esMayor ? 'Adulto' : 'Menor');"
   ]
  },
  {
   "cell_type": "markdown",
   "metadata": {},
   "source": [
    "### switch - case\n",
    "\n",
    "Ideal para comparar un valor contra múltiples posibilidades."
   ]
  },
  {
   "cell_type": "code",
   "execution_count": null,
   "metadata": {
    "vscode": {
     "languageId": "cpp"
    }
   },
   "outputs": [],
   "source": [
    "String dia = 'lunes';\n",
    "\n",
    "switch (dia) {\n",
    "  case 'lunes':\n",
    "    print('Inicio de semana');\n",
    "    break;\n",
    "  case 'viernes':\n",
    "    print('¡Fin de semana cerca!');\n",
    "    break;\n",
    "  default:\n",
    "    print('Día no reconocido');\n",
    "}"
   ]
  },
  {
   "cell_type": "markdown",
   "metadata": {},
   "source": [
    "## Bucles\n",
    "\n",
    "Permiten repetir un bloque de código múltiples veces.\n",
    "\n",
    "### for Tradicional\n",
    "Útil cuando se conoce el número de iteraciones."
   ]
  },
  {
   "cell_type": "code",
   "execution_count": null,
   "metadata": {
    "vscode": {
     "languageId": "cpp"
    }
   },
   "outputs": [],
   "source": [
    "for (int i = 0; i < 5; i++) {\n",
    "    print(i); // 0, 1, 2, 3, 4\n",
    "  }"
   ]
  },
  {
   "cell_type": "markdown",
   "metadata": {},
   "source": [
    "### for-in\n",
    "Para iterar sobre elementos de una colección (listas, sets, etc.)."
   ]
  },
  {
   "cell_type": "code",
   "execution_count": null,
   "metadata": {
    "vscode": {
     "languageId": "cpp"
    }
   },
   "outputs": [],
   "source": [
    "List<String> frutas = ['manzana', 'banana', 'naranja'];\n",
    "\n",
    "for (String fruta in frutas) {\n",
    "  print(fruta); // Imprime cada fruta\n",
    "}"
   ]
  },
  {
   "cell_type": "markdown",
   "metadata": {},
   "source": [
    "### forEach\n",
    "Método aplicable a colecciones (más funcional)."
   ]
  },
  {
   "cell_type": "code",
   "execution_count": null,
   "metadata": {
    "vscode": {
     "languageId": "cpp"
    }
   },
   "outputs": [],
   "source": [
    "List<String> frutas = ['manzana', 'banana', 'naranja'];\n",
    "\n",
    "frutas.forEach((fruta) => print(fruta)); "
   ]
  },
  {
   "cell_type": "markdown",
   "metadata": {},
   "source": [
    "### while\n",
    "\n",
    "Ejecuta un bloque mientras la condición sea verdadera."
   ]
  },
  {
   "cell_type": "code",
   "execution_count": null,
   "metadata": {
    "vscode": {
     "languageId": "cpp"
    }
   },
   "outputs": [],
   "source": [
    "int contador = 0;\n",
    "\n",
    "while (contador < 3) {\n",
    "  print(contador); // 0, 1, 2\n",
    "  contador++;\n",
    "}"
   ]
  },
  {
   "cell_type": "markdown",
   "metadata": {},
   "source": [
    "### do-while\n",
    "Ejecuta el bloque al menos una vez antes de verificar la condición."
   ]
  },
  {
   "cell_type": "code",
   "execution_count": null,
   "metadata": {
    "vscode": {
     "languageId": "cpp"
    }
   },
   "outputs": [],
   "source": [
    "int contador = 5;\n",
    "\n",
    "do {\n",
    "  print(contador); // 5 (se ejecuta una vez)\n",
    "} while (contador < 3);"
   ]
  }
 ],
 "metadata": {
  "language_info": {
   "name": "python"
  }
 },
 "nbformat": 4,
 "nbformat_minor": 2
}
